{
 "cells": [
  {
   "cell_type": "markdown",
   "metadata": {},
   "source": [
    "| col 1 | col 2 |\n",
    "|-------|-------|\n",
    "| test1 | test 2 |"
   ]
  }
 ],
 "metadata": {
  "kernelspec": {
   "display_name": "Python 3.9.13 ('venv': venv)",
   "language": "python",
   "name": "python3"
  },
  "language_info": {
   "codemirror_mode": {
    "name": "ipython",
    "version": 3
   },
   "file_extension": ".py",
   "mimetype": "text/x-python",
   "name": "python",
   "nbconvert_exporter": "python",
   "pygments_lexer": "ipython3",
   "version": "3.9.13"
  },
  "orig_nbformat": 4,
  "title": "SOME TITLE",
  "vscode": {
   "interpreter": {
    "hash": "bcd7e97cf71e998a93ec80db15725ed4a4806c1de3630361ecb7124b538cb899"
   }
  }
 },
 "nbformat": 4,
 "nbformat_minor": 2
}
